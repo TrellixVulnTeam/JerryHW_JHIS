{
 "cells": [
  {
   "cell_type": "markdown",
   "metadata": {},
   "source": [
    "## HW1"
   ]
  },
  {
   "cell_type": "code",
   "execution_count": 1,
   "metadata": {},
   "outputs": [
    {
     "name": "stdout",
     "output_type": "stream",
     "text": [
      "請輸入一個整數34\n"
     ]
    },
    {
     "data": {
      "text/plain": [
       "[134]"
      ]
     },
     "execution_count": 1,
     "metadata": {},
     "output_type": "execute_result"
    }
   ],
   "source": [
    "list(map(lambda x:x+100,[int(input(\"請輸入一個整數\"))]))"
   ]
  },
  {
   "cell_type": "markdown",
   "metadata": {},
   "source": [
    "## HW2"
   ]
  },
  {
   "cell_type": "code",
   "execution_count": 3,
   "metadata": {},
   "outputs": [
    {
     "name": "stdout",
     "output_type": "stream",
     "text": [
      "相加的結果:8\n"
     ]
    },
    {
     "data": {
      "text/plain": [
       "'相乘的結果:15'"
      ]
     },
     "execution_count": 3,
     "metadata": {},
     "output_type": "execute_result"
    }
   ],
   "source": [
    "def mutiplication(func):\n",
    "    def muti(c,d):\n",
    "        result = func(c,d)\n",
    "        print(\"相加的結果:%d\"%(result))\n",
    "        return (\"相乘的結果:%d\"%(c*d))\n",
    "    return muti\n",
    "@mutiplication\n",
    "def add(a,b):\n",
    "    return(a+b)\n",
    "add(3,5)\n"
   ]
  },
  {
   "cell_type": "markdown",
   "metadata": {},
   "source": [
    "## HW3"
   ]
  },
  {
   "cell_type": "code",
   "execution_count": null,
   "metadata": {},
   "outputs": [
    {
     "name": "stdout",
     "output_type": "stream",
     "text": [
      "2\n",
      "A\n",
      "出錯，請重新輸入\n"
     ]
    }
   ],
   "source": [
    "while True:\n",
    "    try:\n",
    "        int(input())\n",
    "    except:\n",
    "        print(\"出錯，請重新輸入\")\n",
    "        "
   ]
  },
  {
   "cell_type": "markdown",
   "metadata": {},
   "source": [
    "## HW4"
   ]
  },
  {
   "cell_type": "code",
   "execution_count": null,
   "metadata": {},
   "outputs": [],
   "source": [
    "from source import calculator\n",
    "x=input(\"請輸入兩個數字加減乘除\")\n",
    "if x.find(\"+\")!=-1:\n",
    "    a=x.split(\"+\")\n",
    "    a.append(\"+\")\n",
    "    print(calculator.calculator(a[0],a[1],a[2]))\n",
    "elif x.find(\"-\")!=-1:\n",
    "    a=x.split(\"-\")\n",
    "    a.append(\"-\")\n",
    "    print(calculator.calculator(a[0],a[1],a[2]))\n",
    "elif x.find(\"*\")!=-1:\n",
    "    a=x.split(\"*\")\n",
    "    a.append(\"*\")\n",
    "    print(calculator.calculator(a[0],a[1],a[2]))\n",
    "else:x.find(\"/\")!=-1\n",
    "a=x.split(\"/\")\n",
    "a.append(\"/\")\n",
    "print(calculator.calculator(a[0],a[1],a[2]))"
   ]
  },
  {
   "cell_type": "code",
   "execution_count": null,
   "metadata": {},
   "outputs": [],
   "source": []
  }
 ],
 "metadata": {
  "kernelspec": {
   "display_name": "Python 3",
   "language": "python",
   "name": "python3"
  },
  "language_info": {
   "codemirror_mode": {
    "name": "ipython",
    "version": 3
   },
   "file_extension": ".py",
   "mimetype": "text/x-python",
   "name": "python",
   "nbconvert_exporter": "python",
   "pygments_lexer": "ipython3",
   "version": "3.6.4"
  }
 },
 "nbformat": 4,
 "nbformat_minor": 2
}
