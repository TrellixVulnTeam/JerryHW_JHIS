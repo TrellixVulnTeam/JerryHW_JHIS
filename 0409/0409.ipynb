{
 "cells": [
  {
   "cell_type": "markdown",
   "metadata": {},
   "source": [
    "# Q1"
   ]
  },
  {
   "cell_type": "code",
   "execution_count": 12,
   "metadata": {},
   "outputs": [
    {
     "name": "stdout",
     "output_type": "stream",
     "text": [
      "餐廳名稱:麥當勞 烹飪方式:霜淇淋\n"
     ]
    }
   ],
   "source": [
    "class restaurant():\n",
    "    def  describe_restaurant(self, restaurant_name, cooking_type):\n",
    "        print (\"餐廳名稱:\" + restaurant_name + \" 烹飪方式:\" + cooking_type )\n",
    "#t = restaurant()\n",
    "#t.describe_restaurant('麥當勞','霜淇淋')\n",
    "\n"
   ]
  },
  {
   "cell_type": "code",
   "execution_count": 3,
   "metadata": {
    "scrolled": true
   },
   "outputs": [
    {
     "ename": "AttributeError",
     "evalue": "'IceCreamStand' object has no attribute 'flavor'",
     "output_type": "error",
     "traceback": [
      "\u001b[1;31m---------------------------------------------------------------------------\u001b[0m",
      "\u001b[1;31mAttributeError\u001b[0m                            Traceback (most recent call last)",
      "\u001b[1;32m<ipython-input-3-be74c0128eaa>\u001b[0m in \u001b[0;36m<module>\u001b[1;34m()\u001b[0m\n\u001b[0;32m      5\u001b[0m         \u001b[0mprint\u001b[0m\u001b[1;33m(\u001b[0m\u001b[1;34m\"口味: \"\u001b[0m\u001b[1;33m,\u001b[0m\u001b[0mself\u001b[0m\u001b[1;33m.\u001b[0m\u001b[0mflavor\u001b[0m\u001b[1;33m)\u001b[0m\u001b[1;33m\u001b[0m\u001b[0m\n\u001b[0;32m      6\u001b[0m \u001b[0mt\u001b[0m \u001b[1;33m=\u001b[0m \u001b[0mIceCreamStand\u001b[0m\u001b[1;33m(\u001b[0m\u001b[1;33m)\u001b[0m\u001b[1;33m\u001b[0m\u001b[0m\n\u001b[1;32m----> 7\u001b[1;33m \u001b[0mt\u001b[0m\u001b[1;33m.\u001b[0m\u001b[0mshow_flavors\u001b[0m\u001b[1;33m(\u001b[0m\u001b[1;33m)\u001b[0m\u001b[1;33m\u001b[0m\u001b[0m\n\u001b[0m",
      "\u001b[1;32m<ipython-input-3-be74c0128eaa>\u001b[0m in \u001b[0;36mshow_flavors\u001b[1;34m(self)\u001b[0m\n\u001b[0;32m      3\u001b[0m         \u001b[0mself\u001b[0m\u001b[1;33m.\u001b[0m\u001b[0mflavor\u001b[0m \u001b[1;33m=\u001b[0m \u001b[1;33m[\u001b[0m\u001b[1;34m'香草冰淇淋'\u001b[0m\u001b[1;33m,\u001b[0m \u001b[1;34m'榴槤冰淇淋'\u001b[0m\u001b[1;33m,\u001b[0m \u001b[1;34m'苦瓜冰淇淋'\u001b[0m\u001b[1;33m]\u001b[0m\u001b[1;33m\u001b[0m\u001b[0m\n\u001b[0;32m      4\u001b[0m     \u001b[1;32mdef\u001b[0m \u001b[0mshow_flavors\u001b[0m\u001b[1;33m(\u001b[0m\u001b[0mself\u001b[0m\u001b[1;33m)\u001b[0m\u001b[1;33m:\u001b[0m\u001b[1;33m\u001b[0m\u001b[0m\n\u001b[1;32m----> 5\u001b[1;33m         \u001b[0mprint\u001b[0m\u001b[1;33m(\u001b[0m\u001b[1;34m\"口味: \"\u001b[0m\u001b[1;33m,\u001b[0m\u001b[0mself\u001b[0m\u001b[1;33m.\u001b[0m\u001b[0mflavor\u001b[0m\u001b[1;33m)\u001b[0m\u001b[1;33m\u001b[0m\u001b[0m\n\u001b[0m\u001b[0;32m      6\u001b[0m \u001b[0mt\u001b[0m \u001b[1;33m=\u001b[0m \u001b[0mIceCreamStand\u001b[0m\u001b[1;33m(\u001b[0m\u001b[1;33m)\u001b[0m\u001b[1;33m\u001b[0m\u001b[0m\n\u001b[0;32m      7\u001b[0m \u001b[0mt\u001b[0m\u001b[1;33m.\u001b[0m\u001b[0mshow_flavors\u001b[0m\u001b[1;33m(\u001b[0m\u001b[1;33m)\u001b[0m\u001b[1;33m\u001b[0m\u001b[0m\n",
      "\u001b[1;31mAttributeError\u001b[0m: 'IceCreamStand' object has no attribute 'flavor'"
     ]
    }
   ],
   "source": [
    "class IceCreamStand(restaurant):\n",
    "    def _init_(self):\n",
    "        self.flavor = ['香草冰淇淋', '榴槤冰淇淋', '苦瓜冰淇淋']\n",
    "    def show_flavors(self):\n",
    "        print(\"口味: \",self.flavor)\n",
    "t = IceCreamStand()\n",
    "t.show_flavors()"
   ]
  },
  {
   "cell_type": "markdown",
   "metadata": {},
   "source": [
    "# Q2"
   ]
  },
  {
   "cell_type": "code",
   "execution_count": 10,
   "metadata": {
    "scrolled": true
   },
   "outputs": [
    {
     "name": "stdout",
     "output_type": "stream",
     "text": [
      "go A go!\n",
      "go A go!\n",
      "go B go!\n",
      "go A go!\n",
      "go C go!\n",
      "go A go!\n",
      "go C go!\n",
      "go B go!\n",
      "go D go!\n",
      "go A go!\n",
      "go C go!\n",
      "go B go!\n",
      "stop A stop!\n",
      "stop A stop!\n",
      "stop A stop!\n",
      "stop C stop!\n",
      "stop A stop!\n",
      "stop C stop!\n",
      "stop D stop!\n",
      "stop A stop!\n",
      "stop C stop!\n"
     ]
    },
    {
     "ename": "Exception",
     "evalue": "Not Implemented",
     "output_type": "error",
     "traceback": [
      "\u001b[1;31m---------------------------------------------------------------------------\u001b[0m",
      "\u001b[1;31mException\u001b[0m                                 Traceback (most recent call last)",
      "\u001b[1;32m<ipython-input-10-98ba7d2d15d4>\u001b[0m in \u001b[0;36m<module>\u001b[1;34m()\u001b[0m\n\u001b[0;32m    102\u001b[0m \u001b[1;33m\u001b[0m\u001b[0m\n\u001b[0;32m    103\u001b[0m \u001b[1;33m\u001b[0m\u001b[0m\n\u001b[1;32m--> 104\u001b[1;33m \u001b[0ma\u001b[0m\u001b[1;33m.\u001b[0m\u001b[0mpause\u001b[0m\u001b[1;33m(\u001b[0m\u001b[1;33m)\u001b[0m\u001b[1;33m\u001b[0m\u001b[0m\n\u001b[0m\u001b[0;32m    105\u001b[0m \u001b[0mb\u001b[0m\u001b[1;33m.\u001b[0m\u001b[0mpause\u001b[0m\u001b[1;33m(\u001b[0m\u001b[1;33m)\u001b[0m\u001b[1;33m\u001b[0m\u001b[0m\n\u001b[0;32m    106\u001b[0m \u001b[0mc\u001b[0m\u001b[1;33m.\u001b[0m\u001b[0mpause\u001b[0m\u001b[1;33m(\u001b[0m\u001b[1;33m)\u001b[0m\u001b[1;33m\u001b[0m\u001b[0m\n",
      "\u001b[1;32m<ipython-input-10-98ba7d2d15d4>\u001b[0m in \u001b[0;36mpause\u001b[1;34m(self)\u001b[0m\n\u001b[0;32m     15\u001b[0m     \u001b[1;32mdef\u001b[0m \u001b[0mpause\u001b[0m\u001b[1;33m(\u001b[0m\u001b[0mself\u001b[0m\u001b[1;33m)\u001b[0m\u001b[1;33m:\u001b[0m\u001b[1;33m\u001b[0m\u001b[0m\n\u001b[0;32m     16\u001b[0m \u001b[1;33m\u001b[0m\u001b[0m\n\u001b[1;32m---> 17\u001b[1;33m         \u001b[1;32mraise\u001b[0m \u001b[0mException\u001b[0m\u001b[1;33m(\u001b[0m\u001b[1;34m\"Not Implemented\"\u001b[0m\u001b[1;33m)\u001b[0m\u001b[1;33m\u001b[0m\u001b[0m\n\u001b[0m\u001b[0;32m     18\u001b[0m \u001b[1;33m\u001b[0m\u001b[0m\n\u001b[0;32m     19\u001b[0m \u001b[1;33m\u001b[0m\u001b[0m\n",
      "\u001b[1;31mException\u001b[0m: Not Implemented"
     ]
    }
   ],
   "source": [
    "class A(object): \n",
    "\n",
    "    def go(self): \n",
    "\n",
    "        print (\"go A go!\") \n",
    "\n",
    "\n",
    "\n",
    "    def stop(self): \n",
    "\n",
    "        print (\"stop A stop!\") \n",
    "\n",
    " \n",
    "\n",
    "    def pause(self): \n",
    "\n",
    "        raise Exception(\"Not Implemented\")\n",
    "\n",
    "\n",
    "\n",
    "\n",
    "\n",
    "class B(A): \n",
    "\n",
    "    def go(self): \n",
    "\n",
    "        super(B, self).go() \n",
    "\n",
    "        print (\"go B go!\")\n",
    "\n",
    "\n",
    "\n",
    "class C(A): \n",
    "\n",
    "    def go(self): \n",
    "\n",
    "        super(C, self).go() \n",
    "\n",
    "        print (\"go C go!\")\n",
    "\n",
    " \n",
    "\n",
    "    def stop(self): \n",
    "\n",
    "        super(C, self).stop()\n",
    "\n",
    "        print (\"stop C stop!\") \n",
    "\n",
    "\n",
    "\n",
    "\n",
    "\n",
    "class D(B,C): \n",
    "\n",
    "    def go(self): \n",
    "\n",
    "        super(D, self).go() \n",
    "\n",
    "        print (\"go D go!\")\n",
    "    \n",
    " \n",
    "\n",
    "    def stop(self): \n",
    "\n",
    "        super(D, self).stop()\n",
    "\n",
    "        print (\"stop D stop!\") \n",
    "\n",
    "\n",
    "\n",
    "    def pause(self): \n",
    "\n",
    "        print (\"wait D wait!\") \n",
    "\n",
    "\n",
    "\n",
    "\n",
    "\n",
    "class E(B,C):\n",
    "\n",
    "    pass\n",
    "\n",
    "\n",
    "a = A() \n",
    "b = B() \n",
    "c = C() \n",
    "d = D() \n",
    "e = E()\n",
    "\n",
    "a.go() \n",
    "b.go() \n",
    "c.go() \n",
    "d.go() \n",
    "e.go() \n",
    "\n",
    "\n",
    "a.stop() \n",
    "b.stop() \n",
    "c.stop() \n",
    "d.stop() \n",
    "e.stop() \n",
    "\n",
    "\n",
    "a.pause() \n",
    "b.pause() \n",
    "c.pause() \n",
    "d.pause() \n",
    "e.pause()"
   ]
  },
  {
   "cell_type": "code",
   "execution_count": null,
   "metadata": {},
   "outputs": [],
   "source": []
  }
 ],
 "metadata": {
  "kernelspec": {
   "display_name": "Python 3",
   "language": "python",
   "name": "python3"
  },
  "language_info": {
   "codemirror_mode": {
    "name": "ipython",
    "version": 3
   },
   "file_extension": ".py",
   "mimetype": "text/x-python",
   "name": "python",
   "nbconvert_exporter": "python",
   "pygments_lexer": "ipython3",
   "version": "3.6.4"
  }
 },
 "nbformat": 4,
 "nbformat_minor": 2
}
